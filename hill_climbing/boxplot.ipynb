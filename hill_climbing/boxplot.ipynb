{
 "cells": [
  {
   "cell_type": "code",
   "id": "initial_id",
   "metadata": {
    "collapsed": true,
    "ExecuteTime": {
     "end_time": "2025-09-21T23:10:23.713545Z",
     "start_time": "2025-09-21T23:10:23.699551Z"
    }
   },
   "source": [
    "import numpy as np\n",
    "import seaborn as sns\n",
    "import pandas as pd\n",
    "\n",
    "sns.set_theme(style=\"ticks\", palette=\"pastel\")\n",
    "sns.set_style(\"ticks\")"
   ],
   "outputs": [],
   "execution_count": 1
  },
  {
   "metadata": {
    "ExecuteTime": {
     "end_time": "2025-09-21T23:10:23.728540Z",
     "start_time": "2025-09-21T23:10:23.715545Z"
    }
   },
   "cell_type": "code",
   "source": "results = np.array([412., 504., 587., 679., 737., 785., 867., 871., 877., 933.])",
   "id": "6aab36102d42c97a",
   "outputs": [],
   "execution_count": 2
  },
  {
   "metadata": {
    "ExecuteTime": {
     "end_time": "2025-09-21T23:10:23.744535Z",
     "start_time": "2025-09-21T23:10:23.731540Z"
    }
   },
   "cell_type": "code",
   "source": [
    "resultados = results.tolist()\n",
    "algoritmo  = ['Hill Climbing'] * len(resultados)\n",
    "\n",
    "df_result = pd.DataFrame({'fitness': resultados, 'algoritmo' : algoritmo})"
   ],
   "id": "ff6b3ecf1431d0b9",
   "outputs": [],
   "execution_count": 3
  },
  {
   "metadata": {
    "ExecuteTime": {
     "end_time": "2025-09-21T23:10:23.806967Z",
     "start_time": "2025-09-21T23:10:23.746534Z"
    }
   },
   "cell_type": "code",
   "source": "df_result",
   "id": "761c80883656607c",
   "outputs": [
    {
     "data": {
      "text/plain": [
       "   fitness      algoritmo\n",
       "0    412.0  Hill Climbing\n",
       "1    504.0  Hill Climbing\n",
       "2    587.0  Hill Climbing\n",
       "3    679.0  Hill Climbing\n",
       "4    737.0  Hill Climbing\n",
       "5    785.0  Hill Climbing\n",
       "6    867.0  Hill Climbing\n",
       "7    871.0  Hill Climbing\n",
       "8    877.0  Hill Climbing\n",
       "9    933.0  Hill Climbing"
      ],
      "text/html": [
       "<div>\n",
       "<style scoped>\n",
       "    .dataframe tbody tr th:only-of-type {\n",
       "        vertical-align: middle;\n",
       "    }\n",
       "\n",
       "    .dataframe tbody tr th {\n",
       "        vertical-align: top;\n",
       "    }\n",
       "\n",
       "    .dataframe thead th {\n",
       "        text-align: right;\n",
       "    }\n",
       "</style>\n",
       "<table border=\"1\" class=\"dataframe\">\n",
       "  <thead>\n",
       "    <tr style=\"text-align: right;\">\n",
       "      <th></th>\n",
       "      <th>fitness</th>\n",
       "      <th>algoritmo</th>\n",
       "    </tr>\n",
       "  </thead>\n",
       "  <tbody>\n",
       "    <tr>\n",
       "      <th>0</th>\n",
       "      <td>412.0</td>\n",
       "      <td>Hill Climbing</td>\n",
       "    </tr>\n",
       "    <tr>\n",
       "      <th>1</th>\n",
       "      <td>504.0</td>\n",
       "      <td>Hill Climbing</td>\n",
       "    </tr>\n",
       "    <tr>\n",
       "      <th>2</th>\n",
       "      <td>587.0</td>\n",
       "      <td>Hill Climbing</td>\n",
       "    </tr>\n",
       "    <tr>\n",
       "      <th>3</th>\n",
       "      <td>679.0</td>\n",
       "      <td>Hill Climbing</td>\n",
       "    </tr>\n",
       "    <tr>\n",
       "      <th>4</th>\n",
       "      <td>737.0</td>\n",
       "      <td>Hill Climbing</td>\n",
       "    </tr>\n",
       "    <tr>\n",
       "      <th>5</th>\n",
       "      <td>785.0</td>\n",
       "      <td>Hill Climbing</td>\n",
       "    </tr>\n",
       "    <tr>\n",
       "      <th>6</th>\n",
       "      <td>867.0</td>\n",
       "      <td>Hill Climbing</td>\n",
       "    </tr>\n",
       "    <tr>\n",
       "      <th>7</th>\n",
       "      <td>871.0</td>\n",
       "      <td>Hill Climbing</td>\n",
       "    </tr>\n",
       "    <tr>\n",
       "      <th>8</th>\n",
       "      <td>877.0</td>\n",
       "      <td>Hill Climbing</td>\n",
       "    </tr>\n",
       "    <tr>\n",
       "      <th>9</th>\n",
       "      <td>933.0</td>\n",
       "      <td>Hill Climbing</td>\n",
       "    </tr>\n",
       "  </tbody>\n",
       "</table>\n",
       "</div>"
      ]
     },
     "execution_count": 4,
     "metadata": {},
     "output_type": "execute_result"
    }
   ],
   "execution_count": 4
  },
  {
   "metadata": {
    "ExecuteTime": {
     "end_time": "2025-09-21T23:10:24.163850Z",
     "start_time": "2025-09-21T23:10:23.808967Z"
    }
   },
   "cell_type": "code",
   "source": "sns.boxplot(df_result, x=\"algoritmo\", y = 'fitness')",
   "id": "1c300b7b6fe19b1c",
   "outputs": [
    {
     "data": {
      "text/plain": [
       "<Axes: xlabel='algoritmo', ylabel='fitness'>"
      ]
     },
     "execution_count": 5,
     "metadata": {},
     "output_type": "execute_result"
    },
    {
     "data": {
      "text/plain": [
       "<Figure size 640x480 with 1 Axes>"
      ],
      "image/png": "[encoded data removed]"
     },
     "metadata": {},
     "output_type": "display_data"
    }
   ],
   "execution_count": 5
  },
  {
   "metadata": {
    "ExecuteTime": {
     "end_time": "2025-09-21T23:10:24.393775Z",
     "start_time": "2025-09-21T23:10:24.165849Z"
    }
   },
   "cell_type": "code",
   "source": [
    "sns.boxplot(df_result, x=\"algoritmo\", y = 'fitness')\n",
    "sns.swarmplot(df_result, x=\"algoritmo\", y = 'fitness')"
   ],
   "id": "5881259c3b827b0",
   "outputs": [
    {
     "data": {
      "text/plain": [
       "<Axes: xlabel='algoritmo', ylabel='fitness'>"
      ]
     },
     "execution_count": 6,
     "metadata": {},
     "output_type": "execute_result"
    },
    {
     "data": {
      "text/plain": [
       "<Figure size 640x480 with 1 Axes>"
      ],
      "image/png": "[encoded data removed]"
     },
     "metadata": {},
     "output_type": "display_data"
    }
   ],
   "execution_count": 6
  }
 ],
 "metadata": {
  "kernelspec": {
   "display_name": "Python 3",
   "language": "python",
   "name": "python3"
  },
  "language_info": {
   "codemirror_mode": {
    "name": "ipython",
    "version": 2
   },
   "file_extension": ".py",
   "mimetype": "text/x-python",
   "name": "python",
   "nbconvert_exporter": "python",
   "pygments_lexer": "ipython2",
   "version": "2.7.6"
  }
 },
 "nbformat": 4,
 "nbformat_minor": 5
}
